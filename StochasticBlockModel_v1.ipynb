{
 "cells": [
  {
   "cell_type": "code",
   "execution_count": 1,
   "metadata": {},
   "outputs": [],
   "source": [
    "import networkx as nx\n",
    "import plotly.graph_objects as go\n",
    "import pandas as pd\n",
    "import random\n",
    "import numpy as np\n",
    "import matplotlib.pyplot as plt"
   ]
  },
  {
   "cell_type": "code",
   "execution_count": 2,
   "metadata": {},
   "outputs": [],
   "source": [
    "n, k, p, q , MinOutsideWeight, MaxOutsideWeight, MinInsideWeight, MaxInsideWeight = input().split()\n",
    "C = np.zeros(int(k))\n",
    "M = np.zeros((int(n),int(n)))\n",
    "\n",
    "for i in range(int(k)):\n",
    "    C[i] = int(input())"
   ]
  },
  {
   "cell_type": "code",
   "execution_count": 3,
   "metadata": {},
   "outputs": [],
   "source": [
    "t = 0\n",
    "cnt = 0\n",
    "Graph = []\n",
    "for i in range(int(n)):\n",
    "    if(i >= cnt + C[t]):\n",
    "        cnt += C[t]\n",
    "        t += 1\n",
    "    for j in range(i):\n",
    "        if(j >= cnt):\n",
    "            x = random.random()\n",
    "            if(x <= float(p)):\n",
    "                y = random.random()\n",
    "                y *= (int(MaxInsideWeight) - int(MinInsideWeight))\n",
    "                y += int(MinInsideWeight)\n",
    "                M[i][j] = M[j][i] = y\n",
    "                temp = [i, j]\n",
    "                Graph.append(temp)\n",
    "        else:\n",
    "            x = random.random()\n",
    "            if(x <= float(q)):\n",
    "                y = random.random()\n",
    "                y *= (int(MaxOutsideWeight) - int(MinOutsideWeight))\n",
    "                y += int(MinOutsideWeight)\n",
    "                M[i][j] = M[j][i] = y\n",
    "                temp = [i, j]\n",
    "                Graph.append(temp)"
   ]
  },
  {
   "cell_type": "code",
   "execution_count": 4,
   "metadata": {},
   "outputs": [
    {
     "name": "stdout",
     "output_type": "stream",
     "text": [
      "[[0.         0.         1.49177478 2.25520807]\n",
      " [0.         0.         2.29977263 2.67377882]\n",
      " [1.49177478 2.29977263 0.         5.84623851]\n",
      " [2.25520807 2.67377882 5.84623851 0.        ]]\n"
     ]
    }
   ],
   "source": [
    "print(M)"
   ]
  }
 ],
 "metadata": {
  "interpreter": {
   "hash": "63fd5069d213b44bf678585dea6b12cceca9941eaf7f819626cde1f2670de90d"
  },
  "kernelspec": {
   "display_name": "Python 3.9.0 64-bit",
   "language": "python",
   "name": "python3"
  },
  "language_info": {
   "codemirror_mode": {
    "name": "ipython",
    "version": 3
   },
   "file_extension": ".py",
   "mimetype": "text/x-python",
   "name": "python",
   "nbconvert_exporter": "python",
   "pygments_lexer": "ipython3",
   "version": "3.9.0"
  },
  "orig_nbformat": 4
 },
 "nbformat": 4,
 "nbformat_minor": 2
}
