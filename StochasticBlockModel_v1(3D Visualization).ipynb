{
 "cells": [
  {
   "cell_type": "code",
   "execution_count": 4,
   "metadata": {},
   "outputs": [],
   "source": [
    "from pyvis.network import Network\n",
    "import networkx as nx\n",
    "import plotly.graph_objects as go\n",
    "import pandas as pd\n",
    "import random\n",
    "import numpy as np\n",
    "import matplotlib.pyplot as plt"
   ]
  },
  {
   "cell_type": "code",
   "execution_count": 5,
   "metadata": {},
   "outputs": [],
   "source": [
    "n, k, p, q , MinOutsideWeight, MaxOutsideWeight, MinInsideWeight, MaxInsideWeight = input().split()\n",
    "C = np.zeros(int(k))\n",
    "M = np.zeros((int(n),int(n)))"
   ]
  },
  {
   "cell_type": "code",
   "execution_count": 6,
   "metadata": {},
   "outputs": [],
   "source": [
    "vGraph = Network(height='739px', width='100%', bgcolor='#222222', font_color='white')\n",
    "vGraph.barnes_hut()\n",
    "t = 1\n",
    "for i in range(int(k)):\n",
    "    C[i] = int(input())\n",
    "    a = int(random.random() * 255)\n",
    "    b = int(random.random() * 255)\n",
    "    c = int(random.random() * 255)\n",
    "    rgb = (a, b, c)\n",
    "    for j in range(int(C[i])):\n",
    "        vGraph.add_node(t,color = ('#' + str('%02x%02x%02x' % rgb)))\n",
    "        t += 1"
   ]
  },
  {
   "cell_type": "code",
   "execution_count": 7,
   "metadata": {},
   "outputs": [],
   "source": [
    "t = 0\n",
    "cnt = 0\n",
    "for i in range(int(n)):\n",
    "    if(i >= cnt + C[t]):\n",
    "        cnt += C[t]\n",
    "        t += 1\n",
    "    for j in range(i):\n",
    "        if(j >= cnt):\n",
    "            x = random.random()\n",
    "            if(x <= float(p)):\n",
    "                y = random.random()\n",
    "                y *= (int(MaxInsideWeight) - int(MinInsideWeight))\n",
    "                y += int(MinInsideWeight)\n",
    "                M[i][j] = M[j][i] = y\n",
    "                temp = [i, j]\n",
    "                vGraph.add_edge(i + 1,j + 1,value = y, title = str(y))\n",
    "        else:\n",
    "            x = random.random()\n",
    "            if(x <= float(q)):\n",
    "                y = random.random()\n",
    "                y *= (int(MaxOutsideWeight) - int(MinOutsideWeight))\n",
    "                y += int(MinOutsideWeight)\n",
    "                M[i][j] = M[j][i] = y\n",
    "                temp = [i, j]\n",
    "                vGraph.add_edge(i + 1,j + 1,value = y, title = str(y), color = 'black')"
   ]
  },
  {
   "cell_type": "code",
   "execution_count": 8,
   "metadata": {},
   "outputs": [],
   "source": [
    "vGraph.show_buttons(filter_=['physics'])\n",
    "vGraph.show('Graph.html')"
   ]
  }
 ],
 "metadata": {
  "interpreter": {
   "hash": "723d4b7bc280cd31fdada53ad6420192b9a3a8d60631096143cc718cb9440dc1"
  },
  "kernelspec": {
   "display_name": "Python 3.8.5 64-bit",
   "language": "python",
   "name": "python3"
  },
  "language_info": {
   "codemirror_mode": {
    "name": "ipython",
    "version": 3
   },
   "file_extension": ".py",
   "mimetype": "text/x-python",
   "name": "python",
   "nbconvert_exporter": "python",
   "pygments_lexer": "ipython3",
   "version": "3.8.5"
  },
  "orig_nbformat": 4
 },
 "nbformat": 4,
 "nbformat_minor": 2
}
